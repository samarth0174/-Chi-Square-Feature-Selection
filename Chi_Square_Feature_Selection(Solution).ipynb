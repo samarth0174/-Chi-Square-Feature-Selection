{
  "nbformat": 4,
  "nbformat_minor": 0,
  "metadata": {
    "colab": {
      "name": "Chi-Square Feature Selection(Solution).ipynb",
      "provenance": [],
      "collapsed_sections": [],
      "authorship_tag": "ABX9TyMacI+kKesGYkv5U2yF9YgL",
      "include_colab_link": true
    },
    "kernelspec": {
      "name": "python3",
      "display_name": "Python 3"
    }
  },
  "cells": [
    {
      "cell_type": "markdown",
      "metadata": {
        "id": "view-in-github",
        "colab_type": "text"
      },
      "source": [
        "<a href=\"https://colab.research.google.com/github/samarth0174/-Chi-Square-Feature-Selection/blob/master/Chi_Square_Feature_Selection(Solution).ipynb\" target=\"_parent\"><img src=\"https://colab.research.google.com/assets/colab-badge.svg\" alt=\"Open In Colab\"/></a>"
      ]
    },
    {
      "cell_type": "markdown",
      "metadata": {
        "id": "QcTKleOP3Y5E",
        "colab_type": "text"
      },
      "source": [
        "## **Feature selection is a process where you automatically select those features in your data that contribute most to the prediction variable or output in which you are interested. The benefits of performing feature selection before modeling your data are:**\n",
        "\n",
        "* Avoid Overfitting: Less redundant data gives performance boost to the model and results in less opportunity to make decisions based on noise\n",
        "* Reduces Training Time: Less data means that algorithms train faster\n",
        "\n"
      ]
    },
    {
      "cell_type": "markdown",
      "metadata": {
        "id": "CfOBjpLPVw5f",
        "colab_type": "text"
      },
      "source": [
        "## \n",
        "* One common feature selection method that is used with text data is the Chi-Square feature selection. \n",
        "* The χ2 test is used in statistics to test the independence of two events.  \n",
        "* More specifically in feature selection we use it to test whether the occurrence of a specific term and the occurrence of a specific class are independent. \n",
        "\n",
        "* For each feature (term), a corresponding high χ2 score indicates that the null hypothesis H0 of independence (meaning the document class has no influence over the term's frequency) should be rejected and the occurrence of the term and class are dependent. \n",
        "* In this case, we should select the feature for the text classification."
      ]
    },
    {
      "cell_type": "markdown",
      "metadata": {
        "id": "NBJkpANQRKWr",
        "colab_type": "text"
      },
      "source": [
        "# **Import libraries**"
      ]
    },
    {
      "cell_type": "code",
      "metadata": {
        "id": "8LfLoq9u2sB8",
        "colab_type": "code",
        "colab": {}
      },
      "source": [
        "# TODO: import pandas,numpy,labelbinarizer,selectkbest,countvectorizers\n",
        "import numpy as np\n",
        "import pandas as pd\n",
        "\n",
        "from sklearn.preprocessing import LabelBinarizer\n",
        "from sklearn.feature_selection import SelectKBest\n",
        "from sklearn.feature_extraction.text import CountVectorizer\n"
      ],
      "execution_count": 0,
      "outputs": []
    },
    {
      "cell_type": "markdown",
      "metadata": {
        "id": "c5ABUJhARSOV",
        "colab_type": "text"
      },
      "source": [
        "# **For the given Dummy dataset you need to perform feature selection.**"
      ]
    },
    {
      "cell_type": "code",
      "metadata": {
        "id": "KXjnRF8H4sj6",
        "colab_type": "code",
        "colab": {
          "base_uri": "https://localhost:8080/",
          "height": 175
        },
        "outputId": "fdcd0b88-2eed-449a-9fc1-58c3308592d4"
      },
      "source": [
        "X = np.array(['call you tonight', 'Call me a cab', 'please call me... PLEASE!', 'he will call me'])\n",
        "y = [1, 1, 2, 0] #class labels\n",
        "\n",
        "# we'll convert it to a dense document-term matrix,\n",
        "# so we can print a more readable output\n",
        "vect = CountVectorizer()\n",
        "X_dtm = vect.fit_transform(X)\n",
        "X_dtm = X_dtm.toarray()\n",
        "pd.DataFrame(X_dtm, columns = vect.get_feature_names())"
      ],
      "execution_count": 2,
      "outputs": [
        {
          "output_type": "execute_result",
          "data": {
            "text/html": [
              "<div>\n",
              "<style scoped>\n",
              "    .dataframe tbody tr th:only-of-type {\n",
              "        vertical-align: middle;\n",
              "    }\n",
              "\n",
              "    .dataframe tbody tr th {\n",
              "        vertical-align: top;\n",
              "    }\n",
              "\n",
              "    .dataframe thead th {\n",
              "        text-align: right;\n",
              "    }\n",
              "</style>\n",
              "<table border=\"1\" class=\"dataframe\">\n",
              "  <thead>\n",
              "    <tr style=\"text-align: right;\">\n",
              "      <th></th>\n",
              "      <th>cab</th>\n",
              "      <th>call</th>\n",
              "      <th>he</th>\n",
              "      <th>me</th>\n",
              "      <th>please</th>\n",
              "      <th>tonight</th>\n",
              "      <th>will</th>\n",
              "      <th>you</th>\n",
              "    </tr>\n",
              "  </thead>\n",
              "  <tbody>\n",
              "    <tr>\n",
              "      <th>0</th>\n",
              "      <td>0</td>\n",
              "      <td>1</td>\n",
              "      <td>0</td>\n",
              "      <td>0</td>\n",
              "      <td>0</td>\n",
              "      <td>1</td>\n",
              "      <td>0</td>\n",
              "      <td>1</td>\n",
              "    </tr>\n",
              "    <tr>\n",
              "      <th>1</th>\n",
              "      <td>1</td>\n",
              "      <td>1</td>\n",
              "      <td>0</td>\n",
              "      <td>1</td>\n",
              "      <td>0</td>\n",
              "      <td>0</td>\n",
              "      <td>0</td>\n",
              "      <td>0</td>\n",
              "    </tr>\n",
              "    <tr>\n",
              "      <th>2</th>\n",
              "      <td>0</td>\n",
              "      <td>1</td>\n",
              "      <td>0</td>\n",
              "      <td>1</td>\n",
              "      <td>2</td>\n",
              "      <td>0</td>\n",
              "      <td>0</td>\n",
              "      <td>0</td>\n",
              "    </tr>\n",
              "    <tr>\n",
              "      <th>3</th>\n",
              "      <td>0</td>\n",
              "      <td>1</td>\n",
              "      <td>1</td>\n",
              "      <td>1</td>\n",
              "      <td>0</td>\n",
              "      <td>0</td>\n",
              "      <td>1</td>\n",
              "      <td>0</td>\n",
              "    </tr>\n",
              "  </tbody>\n",
              "</table>\n",
              "</div>"
            ],
            "text/plain": [
              "   cab  call  he  me  please  tonight  will  you\n",
              "0    0     1   0   0       0        1     0    1\n",
              "1    1     1   0   1       0        0     0    0\n",
              "2    0     1   0   1       2        0     0    0\n",
              "3    0     1   1   1       0        0     1    0"
            ]
          },
          "metadata": {
            "tags": []
          },
          "execution_count": 2
        }
      ]
    },
    {
      "cell_type": "markdown",
      "metadata": {
        "id": "achXHlH6WUBv",
        "colab_type": "text"
      },
      "source": [
        ""
      ]
    },
    {
      "cell_type": "markdown",
      "metadata": {
        "id": "g7DUBQkWRrh8",
        "colab_type": "text"
      },
      "source": [
        "# **STEPS¶**\n",
        "* First compute the observed count for each class. This is done by building a contingency table from an input X (feature values) and y (class labels). \n",
        "*  Each entry i, j corresponds to some feature i and some class j, and holds the sum of the ith feature's values across all samples belonging to the class j.\n",
        "\n",
        "* Note that although the feature values here are represented as frequencies, this method also works quite well in practice when the values are tf-idf values, since those are just weighted/scaled frequencies."
      ]
    },
    {
      "cell_type": "code",
      "metadata": {
        "id": "jhQuNRSDRqsj",
        "colab_type": "code",
        "colab": {
          "base_uri": "https://localhost:8080/",
          "height": 156
        },
        "outputId": "6a532152-74d6-4e10-d4df-f2e65c66914a"
      },
      "source": [
        "# binarize the output column,\n",
        "# this makes computing the observed value a \n",
        "# simple dot product\n",
        "y_binarized = LabelBinarizer().fit_transform(y)\n",
        "print(y_binarized)\n",
        "print()\n",
        "\n",
        "# our observed count for each class (the row)\n",
        "# and each feature (the column)\n",
        "observed = np.dot(y_binarized.T, X_dtm)\n",
        "print(observed)"
      ],
      "execution_count": 3,
      "outputs": [
        {
          "output_type": "stream",
          "text": [
            "[[0 1 0]\n",
            " [0 1 0]\n",
            " [0 0 1]\n",
            " [1 0 0]]\n",
            "\n",
            "[[0 1 1 1 0 0 1 0]\n",
            " [1 2 0 1 0 1 0 1]\n",
            " [0 1 0 1 2 0 0 0]]\n"
          ],
          "name": "stdout"
        }
      ]
    },
    {
      "cell_type": "code",
      "metadata": {
        "id": "HcwVOR9mSBrc",
        "colab_type": "code",
        "colab": {
          "base_uri": "https://localhost:8080/",
          "height": 69
        },
        "outputId": "c4d3bdb0-4999-43e6-ca37-4df2df2d0f76"
      },
      "source": [
        "# compute the probability of each class and the feature count; \n",
        "# keep both as a 2 dimension array using reshape\n",
        "class_prob = y_binarized.mean(axis = 0).reshape(1, -1)\n",
        "feature_count = X_dtm.sum(axis = 0).reshape(1, -1)\n",
        "expected = np.dot(class_prob.T, feature_count)\n",
        "print(expected)"
      ],
      "execution_count": 4,
      "outputs": [
        {
          "output_type": "stream",
          "text": [
            "[[0.25 1.   0.25 0.75 0.5  0.25 0.25 0.25]\n",
            " [0.5  2.   0.5  1.5  1.   0.5  0.5  0.5 ]\n",
            " [0.25 1.   0.25 0.75 0.5  0.25 0.25 0.25]]\n"
          ],
          "name": "stdout"
        }
      ]
    },
    {
      "cell_type": "markdown",
      "metadata": {
        "id": "vh7uLCqoSQOB",
        "colab_type": "text"
      },
      "source": [
        "### **We can do chi square test with an assumption that there is no biase between the columns. We can also do Chi_square test directly from the contigency table** \n",
        "\n",
        "### **find the Chi value and P value for each feature**\n",
        "* chi-square scores - the scores are better if greater. \n",
        "* p-values - they are better if smaller.\n",
        "\n"
      ]
    },
    {
      "cell_type": "code",
      "metadata": {
        "id": "NiENIGrwSDAg",
        "colab_type": "code",
        "colab": {
          "base_uri": "https://localhost:8080/",
          "height": 52
        },
        "outputId": "6dfb6b84-c822-414b-ff32-68f01bea1718"
      },
      "source": [
        "#TODO : Find chisqscore for each feature value\n",
        "chisq = (observed - expected) ** 2 / expected\n",
        "chisq_score = chisq.sum(axis = 0)\n",
        "print(chisq_score)"
      ],
      "execution_count": 5,
      "outputs": [
        {
          "output_type": "stream",
          "text": [
            "[1.         0.         3.         0.33333333 6.         1.\n",
            " 3.         1.        ]\n"
          ],
          "name": "stdout"
        }
      ]
    },
    {
      "cell_type": "code",
      "metadata": {
        "id": "yB40iZxpSWT0",
        "colab_type": "code",
        "colab": {
          "base_uri": "https://localhost:8080/",
          "height": 86
        },
        "outputId": "ae3dad82-1979-4845-f1d7-aa4f654093f3"
      },
      "source": [
        "#TODO : Cross check the same using Scikit learn chi2 function**\n",
        "from sklearn.feature_selection import chi2\n",
        "chi2score = chi2(X_dtm, y)\n",
        "chi2score\n",
        "\n",
        "# 1st tuple is chisq value and 2nd tuple is pval"
      ],
      "execution_count": 7,
      "outputs": [
        {
          "output_type": "execute_result",
          "data": {
            "text/plain": [
              "(array([1.        , 0.        , 3.        , 0.33333333, 6.        ,\n",
              "        1.        , 3.        , 1.        ]),\n",
              " array([0.60653066, 1.        , 0.22313016, 0.84648172, 0.04978707,\n",
              "        0.60653066, 0.22313016, 0.60653066]))"
            ]
          },
          "metadata": {
            "tags": []
          },
          "execution_count": 7
        }
      ]
    },
    {
      "cell_type": "markdown",
      "metadata": {
        "id": "hjFUJRlFcct_",
        "colab_type": "text"
      },
      "source": [
        "# **Feature Selection**"
      ]
    },
    {
      "cell_type": "markdown",
      "metadata": {
        "id": "Usuihe_Xbnqc",
        "colab_type": "text"
      },
      "source": [
        "## **Select k best features using Chisquare as score fn**\n",
        "**Scikit**-**learn** provides a **SelectKBest** class that can be used with a suite of different statistical tests. It will rank the features with the statistical test that we've specified and select the top k performing ones (meaning that these terms is considered to be more relevant to the task at hand than the others), where k is also a number that we can tweak."
      ]
    },
    {
      "cell_type": "code",
      "metadata": {
        "id": "wEIyB_6SbiCd",
        "colab_type": "code",
        "colab": {
          "base_uri": "https://localhost:8080/",
          "height": 86
        },
        "outputId": "c6b0acc3-d0d7-4f06-a777-8045a7f27b02"
      },
      "source": [
        "#TODO : scikit selectkbest\n",
        "kbest = SelectKBest(score_func = chi2, k = 4)\n",
        "X_dtm_kbest = kbest.fit_transform(X_dtm, y)\n",
        "X_dtm_kbest"
      ],
      "execution_count": 8,
      "outputs": [
        {
          "output_type": "execute_result",
          "data": {
            "text/plain": [
              "array([[0, 0, 0, 1],\n",
              "       [0, 0, 0, 0],\n",
              "       [0, 2, 0, 0],\n",
              "       [1, 0, 1, 0]])"
            ]
          },
          "metadata": {
            "tags": []
          },
          "execution_count": 8
        }
      ]
    },
    {
      "cell_type": "markdown",
      "metadata": {
        "id": "WO36-MN_cmik",
        "colab_type": "text"
      },
      "source": [
        "# **Conclusion**"
      ]
    },
    {
      "cell_type": "code",
      "metadata": {
        "id": "XQruTfQkfvn2",
        "colab_type": "code",
        "colab": {}
      },
      "source": [
        ""
      ],
      "execution_count": 0,
      "outputs": []
    }
  ]
}